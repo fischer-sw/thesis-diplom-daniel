{
 "cells": [
  {
   "cell_type": "code",
   "execution_count": 62,
   "metadata": {},
   "outputs": [],
   "source": [
    "import sys\n",
    "import os\n",
    "import math\n",
    "import glob\n",
    "import pandas as pd\n",
    "\n",
    "def open_file():\n",
    "    path = os.path.join(sys.path[0], \"..\", \"..\", \"Notes\", \"simulationen.ods\")\n",
    "    cfg = pd.read_excel(path, engine=\"odf\", header=3)\n",
    "    return cfg\n",
    "data = open_file()\n",
    "\n",
    "data[\"d_in_[m]\"] = 5e-3\n",
    "data[\"Q_ml_[min]\"] = data[\"d_in_[m]\"] * data[\"h_[m]\"] * math.pi * data[\"u_[m/s]\"] * 1e6 * 60"
   ]
  },
  {
   "cell_type": "code",
   "execution_count": 63,
   "metadata": {},
   "outputs": [
    {
     "name": "stdout",
     "output_type": "stream",
     "text": [
      "min velocity for Sc=12000.0: 8.33333333333333e-05 m/s Q: 0.04712388980384687 ml/min\n",
      "max velocity for Sc=12000.0: 0.001024 m/s Q: 0.1930194526365569 ml/min\n"
     ]
    }
   ],
   "source": [
    "tmp = data.query(\"Sc > 10000 and Sc < 15000 and success == 'ja'\")\n",
    "\n",
    "\n",
    "tmp_min = tmp[tmp[\"u_[m/s]\"] == tmp[\"u_[m/s]\"].min()]\n",
    "tmp_max = tmp[tmp[\"u_[m/s]\"] == tmp[\"u_[m/s]\"].max()]\n",
    "\n",
    "print(f'min velocity for Sc={tmp[\"Sc\"].values[0]}: {tmp_min[\"u_[m/s]\"].values[0]} m/s Q: {tmp_min[\"Q_ml_[min]\"].values[0]} ml/min')\n",
    "print(f'max velocity for Sc={tmp[\"Sc\"].values[0]}: {tmp_max[\"u_[m/s]\"].values[0]} m/s Q: {tmp_max[\"Q_ml_[min]\"].values[0]} ml/min')\n"
   ]
  },
  {
   "cell_type": "code",
   "execution_count": 64,
   "metadata": {},
   "outputs": [
    {
     "name": "stdout",
     "output_type": "stream",
     "text": [
      "min velocity for Sc=2433.0900243309: 0.0003425 m/s Q: 0.19367918709381068 ml/min\n",
      "max velocity for Sc=2433.0900243309: 0.00420864 m/s Q: 0.793309950336249 ml/min\n"
     ]
    }
   ],
   "source": [
    "tmp = data.query(\"Sc > 2000 and Sc < 2500 and success == 'ja'\")\n",
    "\n",
    "tmp_min = tmp[tmp[\"u_[m/s]\"] == tmp[\"u_[m/s]\"].min()]\n",
    "tmp_max = tmp[tmp[\"u_[m/s]\"] == tmp[\"u_[m/s]\"].max()]\n",
    "\n",
    "print(f'min velocity for Sc={tmp[\"Sc\"].values[0]}: {tmp_min[\"u_[m/s]\"].values[0]} m/s Q: {tmp_min[\"Q_ml_[min]\"].values[0]} ml/min')\n",
    "print(f'max velocity for Sc={tmp[\"Sc\"].values[0]}: {tmp_max[\"u_[m/s]\"].values[0]} m/s Q: {tmp_max[\"Q_ml_[min]\"].values[0]} ml/min')"
   ]
  }
 ],
 "metadata": {
  "kernelspec": {
   "display_name": "Python 3",
   "language": "python",
   "name": "python3"
  },
  "language_info": {
   "codemirror_mode": {
    "name": "ipython",
    "version": 3
   },
   "file_extension": ".py",
   "mimetype": "text/x-python",
   "name": "python",
   "nbconvert_exporter": "python",
   "pygments_lexer": "ipython3",
   "version": "3.10.4"
  },
  "orig_nbformat": 4,
  "vscode": {
   "interpreter": {
    "hash": "55b1d0710fb403a149cb173f28956e4abf3e4ea3da8b9af877dac5ed8c7a51b8"
   }
  }
 },
 "nbformat": 4,
 "nbformat_minor": 2
}
