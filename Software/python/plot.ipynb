{
 "cells": [
  {
   "cell_type": "code",
   "execution_count": 9,
   "metadata": {},
   "outputs": [],
   "source": [
    "import numpy as np\n",
    "import glob\n",
    "import os\n",
    "import sys\n",
    "import json\n",
    "import re\n",
    "import pandas as pd\n",
    "from matplotlib import pyplot as plt\n",
    "%matplotlib inline"
   ]
  },
  {
   "cell_type": "code",
   "execution_count": 10,
   "metadata": {},
   "outputs": [],
   "source": []
  },
  {
   "cell_type": "code",
   "execution_count": 11,
   "metadata": {},
   "outputs": [],
   "source": [
    "\"\"\"\n",
    "Read case data\n",
    "\"\"\"\n",
    "cf_path = os.path.join(sys.path[0],\"conf.json\")\n",
    "with open(cf_path) as f:\n",
    "    config = json.load(f)\n",
    "\n"
   ]
  },
  {
   "cell_type": "code",
   "execution_count": 12,
   "metadata": {},
   "outputs": [
    {
     "ename": "ValueError",
     "evalue": "could not convert string to float: 't= 2.0 [s]'",
     "output_type": "error",
     "traceback": [
      "\u001b[1;31m---------------------------------------------------------------------------\u001b[0m",
      "\u001b[1;31mValueError\u001b[0m                                Traceback (most recent call last)",
      "\u001b[1;32mfische42\\Daniel\\thesis-diplom-daniel\\Software\\python\\plot.ipynb Cell 4\u001b[0m in \u001b[0;36m<cell line: 8>\u001b[1;34m()\u001b[0m\n\u001b[0;32m      <a href='vscode-notebook-cell://fileu/fische42/Daniel/thesis-diplom-daniel/Software/python/plot.ipynb#W3sZmlsZQ%3D%3D?line=7'>8</a>\u001b[0m \u001b[39mfor\u001b[39;00m cas \u001b[39min\u001b[39;00m cases:\n\u001b[0;32m      <a href='vscode-notebook-cell://fileu/fische42/Daniel/thesis-diplom-daniel/Software/python/plot.ipynb#W3sZmlsZQ%3D%3D?line=8'>9</a>\u001b[0m     data \u001b[39m=\u001b[39m read_font(cas)\n\u001b[1;32m---> <a href='vscode-notebook-cell://fileu/fische42/Daniel/thesis-diplom-daniel/Software/python/plot.ipynb#W3sZmlsZQ%3D%3D?line=9'>10</a>\u001b[0m     times_c, r_s_c, vals_c \u001b[39m=\u001b[39m calc_front(data, \u001b[39m0.0\u001b[39;49m, use_max\u001b[39m=\u001b[39;49m\u001b[39mTrue\u001b[39;49;00m)\n\u001b[0;32m     <a href='vscode-notebook-cell://fileu/fische42/Daniel/thesis-diplom-daniel/Software/python/plot.ipynb#W3sZmlsZQ%3D%3D?line=10'>11</a>\u001b[0m     times_f, r_s_f, vals_f \u001b[39m=\u001b[39m calc_front(data, \u001b[39m0.1\u001b[39m, use_max\u001b[39m=\u001b[39m\u001b[39mFalse\u001b[39;00m)\n\u001b[0;32m     <a href='vscode-notebook-cell://fileu/fische42/Daniel/thesis-diplom-daniel/Software/python/plot.ipynb#W3sZmlsZQ%3D%3D?line=12'>13</a>\u001b[0m     res[cas] \u001b[39m=\u001b[39m {}\n",
      "\u001b[1;32mfische42\\Daniel\\thesis-diplom-daniel\\Software\\python\\plot.ipynb Cell 4\u001b[0m in \u001b[0;36mcalc_front\u001b[1;34m(data, threshhold, use_max)\u001b[0m\n\u001b[0;32m     <a href='vscode-notebook-cell://fileu/fische42/Daniel/thesis-diplom-daniel/Software/python/plot.ipynb#W3sZmlsZQ%3D%3D?line=51'>52</a>\u001b[0m     vals\u001b[39m.\u001b[39mappend(val_tmp)\n\u001b[0;32m     <a href='vscode-notebook-cell://fileu/fische42/Daniel/thesis-diplom-daniel/Software/python/plot.ipynb#W3sZmlsZQ%3D%3D?line=52'>53</a>\u001b[0m     r_s\u001b[39m.\u001b[39mappend(r_tmp)\n\u001b[1;32m---> <a href='vscode-notebook-cell://fileu/fische42/Daniel/thesis-diplom-daniel/Software/python/plot.ipynb#W3sZmlsZQ%3D%3D?line=54'>55</a>\u001b[0m times \u001b[39m=\u001b[39m np\u001b[39m.\u001b[39;49marray(times)\u001b[39m.\u001b[39;49mastype(\u001b[39mfloat\u001b[39;49m)\n\u001b[0;32m     <a href='vscode-notebook-cell://fileu/fische42/Daniel/thesis-diplom-daniel/Software/python/plot.ipynb#W3sZmlsZQ%3D%3D?line=55'>56</a>\u001b[0m vals \u001b[39m=\u001b[39m np\u001b[39m.\u001b[39marray(vals)\u001b[39m.\u001b[39mastype(\u001b[39mfloat\u001b[39m)\n\u001b[0;32m     <a href='vscode-notebook-cell://fileu/fische42/Daniel/thesis-diplom-daniel/Software/python/plot.ipynb#W3sZmlsZQ%3D%3D?line=56'>57</a>\u001b[0m r_s \u001b[39m=\u001b[39m np\u001b[39m.\u001b[39marray(r_s)\u001b[39m.\u001b[39mastype(\u001b[39mfloat\u001b[39m)\n",
      "\u001b[1;31mValueError\u001b[0m: could not convert string to float: 't= 2.0 [s]'"
     ]
    }
   ],
   "source": [
    "\"\"\"\n",
    "calc fronts\n",
    "\"\"\"\n",
    "\n",
    "cases = [\"h4r3_P931_S1219_gl\"]\n",
    "res = {}\n",
    "\n",
    "for cas in cases:\n",
    "    data = read_front(cas)\n",
    "    times_c, r_s_c, vals_c = calc_front(data, 0.0, use_max=True)\n",
    "    times_f, r_s_f, vals_f = calc_front(data, 0.1, use_max=False)\n",
    "\n",
    "    res[cas] = {}\n",
    "    res[cas] = {\n",
    "        \"times_c\" : times_c,\n",
    "        \"r_s_c\" : r_s_c,\n",
    "        \"vals_c\" : vals_c,\n",
    "        \"times_f\" : times_f,\n",
    "        \"r_s_f\" : r_s_f,\n",
    "        \"vals_f\" : vals_f\n",
    "    }"
   ]
  },
  {
   "cell_type": "code",
   "execution_count": null,
   "metadata": {},
   "outputs": [
    {
     "data": {
      "text/plain": [
       "Text(0.5, 1.0, 'h04_r04_grob_long')"
      ]
     },
     "execution_count": 35,
     "metadata": {},
     "output_type": "execute_result"
    },
    {
     "data": {
      "image/png": "[encoded data removed]",
      "text/plain": [
       "<Figure size 432x288 with 1 Axes>"
      ]
     },
     "metadata": {
      "needs_background": "light"
     },
     "output_type": "display_data"
    }
   ],
   "source": [
    "\"\"\"\n",
    "plot data\n",
    "\"\"\"\n",
    "# calc = [\"front\" , \"center\"]\n",
    "calc = [\"front\"]\n",
    "\n",
    "case = cases[0]\n",
    "\n",
    "if \"center\" in calc:\n",
    "    exp_c = \"r_c_PF\"\n",
    "    # exp_c = \"r_c_ground\"\n",
    "\n",
    "if \"front\" in calc:\n",
    "    exp_f = \"r_f_PF\"\n",
    "    # exp_f = \"r_f_ground\"\n",
    "\n",
    "if exp_c == \"\" or exp_f == \"\":\n",
    "    print(f\"Please choose one of these experiments: {exps}\")\n",
    "\n",
    "if \"center\" in calc:\n",
    "    exp_t_c = np.array(dat[exp_c][exp_c + \" t [s]\"].round(0))\n",
    "    exp_t_c = exp_t_c.astype(float)\n",
    "    t_tmp_c = []\n",
    "    y_tmp_c = []\n",
    "    t_c = res[case][\"times_c\"]\n",
    "    y_c = res[case][\"r_s_c\"]\n",
    "\n",
    "    for ele in exp_t_c:\n",
    "        if ele in t_c:\n",
    "            t_tmp_c.append(ele)\n",
    "            y_tmp_c.append(y_c[int(ele)-1] * 1e3)\n",
    "\n",
    "    plt.plot(t_tmp_c, y_tmp_c, 'bo')\n",
    "    plt.plot(dat[exp_c][exp_c + \" t [s]\"], dat[exp_c][exp_c + \" r [mm]\"], 'bx')\n",
    "            \n",
    "if \"front\" in calc:\n",
    "    exp_t_f = np.array(dat[exp_f][exp_f + \" t [s]\"].round(0))\n",
    "    exp_t_f = exp_t_f.astype(float)\n",
    "\n",
    "    t_tmp_f = []\n",
    "    y_tmp_f = []\n",
    "    t_f = res[case][\"times_f\"]\n",
    "    y_f = res[case][\"r_s_f\"]\n",
    "\n",
    "    for ele in exp_t_f:\n",
    "        if ele in t_f:\n",
    "            t_tmp_f.append(ele)\n",
    "            y_tmp_f.append(y_f[int(ele)-1] * 1e3)\n",
    "    plt.plot(t_tmp_f, y_tmp_f, 'ro')\n",
    "    plt.plot(dat[exp_f][exp_f + \" t [s]\"], dat[exp_f][exp_f + \" r [mm]\"], 'rx')\n",
    "\n",
    "plt.legend([\"model_c\", \"model_f\", \"exp_c\", \"exp_f\"])\n",
    "plt.xlabel(\"time [s]\")\n",
    "# plt.xlim(200,560)\n",
    "# plt.ylim(10,35)\n",
    "plt.ylabel(\"r_front [mm]\")\n",
    "plt.title(case)"
   ]
  },
  {
   "cell_type": "code",
   "execution_count": null,
   "metadata": {},
   "outputs": [
    {
     "data": {
      "text/plain": [
       "Text(0.5, 0, 'time [s]')"
      ]
     },
     "execution_count": 36,
     "metadata": {},
     "output_type": "execute_result"
    },
    {
     "data": {
      "image/png": "[encoded data removed]",
      "text/plain": [
       "<Figure size 432x288 with 1 Axes>"
      ]
     },
     "metadata": {
      "needs_background": "light"
     },
     "output_type": "display_data"
    }
   ],
   "source": [
    "test_f = abs(len(dat[exp_c][exp_c + \" r [mm]\"])-len(y_tmp_c))\n",
    "test_c = abs(len(dat[exp_f][exp_f + \" r [mm]\"])- len(y_tmp_f))\n",
    "\n",
    "if test_c != 0:\n",
    "    exp_c_tmp = np.array(list(dat[exp_c][exp_c + \" r [mm]\"]))[:-test_c]\n",
    "else:\n",
    "    exp_c_tmp = np.array(list(dat[exp_c][exp_c + \" r [mm]\"]))\n",
    "if test_f != 0:\n",
    "    exp_f_tmp = np.array(list(dat[exp_f][exp_f + \" r [mm]\"]))[:-test_f]\n",
    "else:\n",
    "    exp_f_tmp = np.array(list(dat[exp_f][exp_f + \" r [mm]\"]))\n",
    "\n",
    "y_tmp_c = np.array(y_tmp_c)\n",
    "y_tmp_f = np.array(y_tmp_f)\n",
    "\n",
    "diff_c = abs(exp_c_tmp - y_tmp_c)\n",
    "diff_f = abs(exp_f_tmp - y_tmp_f)\n",
    "\n",
    "plt.plot(t_tmp_c, diff_c, 'bo')\n",
    "plt.plot(t_tmp_f, diff_f, 'ro')\n",
    "plt.legend([\"diff_c\", \"diff_f\"])\n",
    "plt.ylabel(\"r_diff [mm]\")\n",
    "plt.xlabel(\"time [s]\")"
   ]
  },
  {
   "cell_type": "code",
   "execution_count": null,
   "metadata": {},
   "outputs": [
    {
     "data": {
      "text/plain": [
       "Text(0.5, 0, 'time [s]')"
      ]
     },
     "execution_count": 37,
     "metadata": {},
     "output_type": "execute_result"
    },
    {
     "data": {
      "image/png": "[encoded data removed]",
      "text/plain": [
       "<Figure size 432x288 with 1 Axes>"
      ]
     },
     "metadata": {
      "needs_background": "light"
     },
     "output_type": "display_data"
    }
   ],
   "source": [
    "radius = int(case.split(\"_\")[1].split(\"r\")[1])*10\n",
    "\n",
    "diff_c_pct = (diff_c / radius) * 100\n",
    "diff_f_pct = (diff_f / radius) * 100\n",
    "\n",
    "plt.plot(t_tmp_c, diff_c_pct, 'bo')\n",
    "plt.plot(t_tmp_f, diff_f_pct, 'ro')\n",
    "plt.legend([\"diff_c\", \"diff_f\"])\n",
    "plt.ylabel(\"r_diff [%]\")\n",
    "plt.xlabel(\"time [s]\")\n"
   ]
  }
 ],
 "metadata": {
  "kernelspec": {
   "display_name": "Python 3.10.4 64-bit",
   "language": "python",
   "name": "python3"
  },
  "language_info": {
   "codemirror_mode": {
    "name": "ipython",
    "version": 3
   },
   "file_extension": ".py",
   "mimetype": "text/x-python",
   "name": "python",
   "nbconvert_exporter": "python",
   "pygments_lexer": "ipython3",
   "version": "3.10.4"
  },
  "orig_nbformat": 4,
  "vscode": {
   "interpreter": {
    "hash": "55b1d0710fb403a149cb173f28956e4abf3e4ea3da8b9af877dac5ed8c7a51b8"
   }
  }
 },
 "nbformat": 4,
 "nbformat_minor": 2
}
